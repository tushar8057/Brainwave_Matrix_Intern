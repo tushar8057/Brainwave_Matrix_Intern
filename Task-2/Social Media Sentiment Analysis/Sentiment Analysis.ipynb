{
 "cells": [
  {
   "cell_type": "code",
   "execution_count": 172,
   "id": "97c452e2-7f55-46f6-b6ce-19355f660157",
   "metadata": {},
   "outputs": [],
   "source": [
    "import pandas as pd\n",
    "import numpy as np\n",
    "import matplotlib.pyplot as plt\n",
    "import seaborn as sns\n",
    "import re\n",
    "from wordcloud import WordCloud\n",
    "from sklearn.feature_extraction.text import TfidfVectorizer\n",
    "from sklearn.model_selection import train_test_split\n",
    "from sklearn.linear_model import LogisticRegression\n",
    "from sklearn.naive_bayes import MultinomialNB\n",
    "from sklearn.svm import LinearSVC\n",
    "from sklearn.tree import DecisionTreeClassifier\n",
    "from sklearn.ensemble import RandomForestClassifier\n",
    "from sklearn.neighbors import KNeighborsClassifier\n",
    "from sklearn.metrics import accuracy_score, classification_report\n"
   ]
  },
  {
   "cell_type": "code",
   "execution_count": 136,
   "id": "a0bf120b-8b71-4808-b891-48a9bf580746",
   "metadata": {},
   "outputs": [
    {
     "name": "stderr",
     "output_type": "stream",
     "text": [
      "[nltk_data] Downloading package wordnet to\n",
      "[nltk_data]     C:\\Users\\rajen\\AppData\\Roaming\\nltk_data...\n",
      "[nltk_data] Downloading package omw-1.4 to\n",
      "[nltk_data]     C:\\Users\\rajen\\AppData\\Roaming\\nltk_data...\n"
     ]
    }
   ],
   "source": [
    "import nltk\n",
    "from nltk.corpus import stopwords\n",
    "nltk.download('stopwords')\n",
    "stop_words = set(stopwords.words('english'))\n",
    "nltk.download('wordnet')\n",
    "nltk.download('omw-1.4')  # For lemmatizer to work correctly\n",
    "from nltk.stem import WordNetLemmatizer\n",
    "lemmatizer = WordNetLemmatizer()"
   ]
  },
  {
   "cell_type": "code",
   "execution_count": 166,
   "id": "daab696e-e2d4-47d9-84a8-aba7653e59a5",
   "metadata": {},
   "outputs": [
    {
     "data": {
      "text/html": [
       "<div>\n",
       "<style scoped>\n",
       "    .dataframe tbody tr th:only-of-type {\n",
       "        vertical-align: middle;\n",
       "    }\n",
       "\n",
       "    .dataframe tbody tr th {\n",
       "        vertical-align: top;\n",
       "    }\n",
       "\n",
       "    .dataframe thead th {\n",
       "        text-align: right;\n",
       "    }\n",
       "</style>\n",
       "<table border=\"1\" class=\"dataframe\">\n",
       "  <thead>\n",
       "    <tr style=\"text-align: right;\">\n",
       "      <th></th>\n",
       "      <th>id</th>\n",
       "      <th>label</th>\n",
       "      <th>tweet</th>\n",
       "    </tr>\n",
       "  </thead>\n",
       "  <tbody>\n",
       "    <tr>\n",
       "      <th>0</th>\n",
       "      <td>1</td>\n",
       "      <td>0</td>\n",
       "      <td>@user when a father is dysfunctional and is s...</td>\n",
       "    </tr>\n",
       "    <tr>\n",
       "      <th>1</th>\n",
       "      <td>2</td>\n",
       "      <td>0</td>\n",
       "      <td>@user @user thanks for #lyft credit i can't us...</td>\n",
       "    </tr>\n",
       "    <tr>\n",
       "      <th>2</th>\n",
       "      <td>3</td>\n",
       "      <td>0</td>\n",
       "      <td>bihday your majesty</td>\n",
       "    </tr>\n",
       "    <tr>\n",
       "      <th>3</th>\n",
       "      <td>4</td>\n",
       "      <td>0</td>\n",
       "      <td>#model   i love u take with u all the time in ...</td>\n",
       "    </tr>\n",
       "    <tr>\n",
       "      <th>4</th>\n",
       "      <td>5</td>\n",
       "      <td>0</td>\n",
       "      <td>factsguide: society now    #motivation</td>\n",
       "    </tr>\n",
       "  </tbody>\n",
       "</table>\n",
       "</div>"
      ],
      "text/plain": [
       "   id  label                                              tweet\n",
       "0   1      0   @user when a father is dysfunctional and is s...\n",
       "1   2      0  @user @user thanks for #lyft credit i can't us...\n",
       "2   3      0                                bihday your majesty\n",
       "3   4      0  #model   i love u take with u all the time in ...\n",
       "4   5      0             factsguide: society now    #motivation"
      ]
     },
     "execution_count": 166,
     "metadata": {},
     "output_type": "execute_result"
    }
   ],
   "source": [
    "df=pd.read_csv(\"Twitter Sentiments.csv\")\n",
    "df.head()"
   ]
  },
  {
   "cell_type": "code",
   "execution_count": 167,
   "id": "bc56c0cc-23ff-4a0b-b6db-04ca0674da16",
   "metadata": {},
   "outputs": [
    {
     "data": {
      "text/html": [
       "<div>\n",
       "<style scoped>\n",
       "    .dataframe tbody tr th:only-of-type {\n",
       "        vertical-align: middle;\n",
       "    }\n",
       "\n",
       "    .dataframe tbody tr th {\n",
       "        vertical-align: top;\n",
       "    }\n",
       "\n",
       "    .dataframe thead th {\n",
       "        text-align: right;\n",
       "    }\n",
       "</style>\n",
       "<table border=\"1\" class=\"dataframe\">\n",
       "  <thead>\n",
       "    <tr style=\"text-align: right;\">\n",
       "      <th></th>\n",
       "      <th>id</th>\n",
       "      <th>label</th>\n",
       "      <th>tweet</th>\n",
       "      <th>clean_tweet</th>\n",
       "    </tr>\n",
       "  </thead>\n",
       "  <tbody>\n",
       "    <tr>\n",
       "      <th>1884</th>\n",
       "      <td>1885</td>\n",
       "      <td>0</td>\n",
       "      <td>#cotd   polar bear climb racing: angry polar b...</td>\n",
       "      <td>cotd polar bear climb racing angry polar bear ...</td>\n",
       "    </tr>\n",
       "    <tr>\n",
       "      <th>16908</th>\n",
       "      <td>16909</td>\n",
       "      <td>0</td>\n",
       "      <td>a note to myself. not all people likes you. #p...</td>\n",
       "      <td>note people like pissed music morning life</td>\n",
       "    </tr>\n",
       "    <tr>\n",
       "      <th>22517</th>\n",
       "      <td>22518</td>\n",
       "      <td>0</td>\n",
       "      <td>@user great insights on trusted professions i...</td>\n",
       "      <td>great insight trusted profession emea growth h...</td>\n",
       "    </tr>\n",
       "    <tr>\n",
       "      <th>10682</th>\n",
       "      <td>10683</td>\n",
       "      <td>0</td>\n",
       "      <td>#model   i love u take with u all the time in ...</td>\n",
       "      <td>model love u take u time ur</td>\n",
       "    </tr>\n",
       "    <tr>\n",
       "      <th>9343</th>\n",
       "      <td>9344</td>\n",
       "      <td>0</td>\n",
       "      <td>....#men lol   truth ?! ð bon fout lol</td>\n",
       "      <td>men lol truth bon fout lol</td>\n",
       "    </tr>\n",
       "  </tbody>\n",
       "</table>\n",
       "</div>"
      ],
      "text/plain": [
       "          id  label                                              tweet  \\\n",
       "1884    1885      0  #cotd   polar bear climb racing: angry polar b...   \n",
       "16908  16909      0  a note to myself. not all people likes you. #p...   \n",
       "22517  22518      0   @user great insights on trusted professions i...   \n",
       "10682  10683      0  #model   i love u take with u all the time in ...   \n",
       "9343    9344      0         ....#men lol   truth ?! ð bon fout lol    \n",
       "\n",
       "                                             clean_tweet  \n",
       "1884   cotd polar bear climb racing angry polar bear ...  \n",
       "16908         note people like pissed music morning life  \n",
       "22517  great insight trusted profession emea growth h...  \n",
       "10682                        model love u take u time ur  \n",
       "9343                          men lol truth bon fout lol  "
      ]
     },
     "execution_count": 167,
     "metadata": {},
     "output_type": "execute_result"
    }
   ],
   "source": [
    "def clean_text(text):\n",
    "    text = str(text).lower()\n",
    "    text = re.sub(r'http\\S+|www\\S+', '', text)              # remove URLs\n",
    "    text = re.sub(r'@\\w+', '', text)                        # remove mentions\n",
    "    text = re.sub(r'#', '', text)                           # remove hashtag symbol, keep word\n",
    "    text = re.sub(r'[^\\x00-\\x7F]+', '', text)               # remove non-ASCII (emojis, foreign chars)\n",
    "    text = re.sub(r'[^\\w\\s]', '', text)                     # remove punctuation\n",
    "    text = re.sub(r'\\d+', '', text)                         # remove digits\n",
    "    text = re.sub(r'\\s+', ' ', text).strip()                # remove extra whitespace\n",
    "    words = text.split()\n",
    "    filtered = [lemmatizer.lemmatize(word) for word in words if word not in stop_words]\n",
    "    return ' '.join(filtered)\n",
    "\n",
    "df['clean_tweet'] = df['tweet'].apply(clean_text)\n",
    "df.sample(5)"
   ]
  },
  {
   "cell_type": "code",
   "execution_count": 168,
   "id": "35261ef7-b4f0-4478-879f-70e02991c80c",
   "metadata": {},
   "outputs": [],
   "source": [
    "vectorizer = TfidfVectorizer(max_features=3000)\n",
    "X = vectorizer.fit_transform(df['clean_tweet'])\n",
    "y = df['label']"
   ]
  },
  {
   "cell_type": "code",
   "execution_count": 173,
   "id": "c1cea6fb-c044-4bc8-a60d-bd2e069ea91a",
   "metadata": {},
   "outputs": [
    {
     "name": "stdout",
     "output_type": "stream",
     "text": [
      "----- Logistic Regression -----\n",
      "Accuracy: 0.9515094634756766\n",
      "Classification Report:\n",
      "               precision    recall  f1-score   support\n",
      "\n",
      "           0       0.95      1.00      0.97      5937\n",
      "           1       0.89      0.36      0.52       456\n",
      "\n",
      "    accuracy                           0.95      6393\n",
      "   macro avg       0.92      0.68      0.75      6393\n",
      "weighted avg       0.95      0.95      0.94      6393\n",
      "\n",
      "\n",
      "\n",
      "----- Naive Bayes -----\n",
      "Accuracy: 0.9527608321601752\n",
      "Classification Report:\n",
      "               precision    recall  f1-score   support\n",
      "\n",
      "           0       0.95      1.00      0.98      5937\n",
      "           1       0.93      0.36      0.52       456\n",
      "\n",
      "    accuracy                           0.95      6393\n",
      "   macro avg       0.94      0.68      0.75      6393\n",
      "weighted avg       0.95      0.95      0.94      6393\n",
      "\n",
      "\n",
      "\n",
      "----- SVM (Linear) -----\n",
      "Accuracy: 0.9557328327858595\n",
      "Classification Report:\n",
      "               precision    recall  f1-score   support\n",
      "\n",
      "           0       0.96      0.99      0.98      5937\n",
      "           1       0.78      0.53      0.63       456\n",
      "\n",
      "    accuracy                           0.96      6393\n",
      "   macro avg       0.87      0.76      0.80      6393\n",
      "weighted avg       0.95      0.96      0.95      6393\n",
      "\n",
      "\n",
      "\n",
      "----- Decision Tree -----\n",
      "Accuracy: 0.9430627248553105\n",
      "Classification Report:\n",
      "               precision    recall  f1-score   support\n",
      "\n",
      "           0       0.97      0.97      0.97      5937\n",
      "           1       0.61      0.55      0.58       456\n",
      "\n",
      "    accuracy                           0.94      6393\n",
      "   macro avg       0.79      0.76      0.78      6393\n",
      "weighted avg       0.94      0.94      0.94      6393\n",
      "\n",
      "\n",
      "\n",
      "----- Random Forest -----\n",
      "Accuracy: 0.9580791490692946\n",
      "Classification Report:\n",
      "               precision    recall  f1-score   support\n",
      "\n",
      "           0       0.97      0.99      0.98      5937\n",
      "           1       0.79      0.56      0.65       456\n",
      "\n",
      "    accuracy                           0.96      6393\n",
      "   macro avg       0.88      0.77      0.82      6393\n",
      "weighted avg       0.95      0.96      0.95      6393\n",
      "\n",
      "\n",
      "\n",
      "----- KNN -----\n",
      "Accuracy: 0.9404035664007508\n",
      "Classification Report:\n",
      "               precision    recall  f1-score   support\n",
      "\n",
      "           0       0.94      1.00      0.97      5937\n",
      "           1       0.84      0.20      0.33       456\n",
      "\n",
      "    accuracy                           0.94      6393\n",
      "   macro avg       0.89      0.60      0.65      6393\n",
      "weighted avg       0.93      0.94      0.92      6393\n",
      "\n",
      "\n",
      "\n"
     ]
    }
   ],
   "source": [
    "X_train, X_test, y_train, y_test = train_test_split(X, y, test_size=0.2, random_state=42)\n",
    "\n",
    "models = {\n",
    "    \"Logistic Regression\": LogisticRegression(),\n",
    "    \"Naive Bayes\": MultinomialNB(),\n",
    "    \"SVM (Linear)\": LinearSVC(),\n",
    "    \"Decision Tree\": DecisionTreeClassifier(),\n",
    "    \"Random Forest\": RandomForestClassifier(n_estimators=100),\n",
    "    \"KNN\": KNeighborsClassifier()\n",
    "}\n",
    "\n",
    "for name, model in models.items():\n",
    "    print(f\"----- {name} -----\")\n",
    "    model.fit(X_train, y_train)\n",
    "    y_pred = model.predict(X_test)\n",
    "    print(\"Accuracy:\", accuracy_score(y_test, y_pred))\n",
    "    print(\"Classification Report:\\n\", classification_report(y_test, y_pred))\n",
    "    print(\"\\n\")"
   ]
  },
  {
   "cell_type": "code",
   "execution_count": 176,
   "id": "8688dd1d-2978-4891-8d06-107c19156ee4",
   "metadata": {},
   "outputs": [
    {
     "name": "stdout",
     "output_type": "stream",
     "text": [
      "Predicted Sentiment: Negative\n"
     ]
    }
   ],
   "source": [
    "# Example tweet\n",
    "new_tweet = [\"I love this product! It's amazing\"]\n",
    "new_tweet_vect = vectorizer.transform(new_tweet)\n",
    "pred = model.predict(new_tweet_vect)\n",
    "\n",
    "print(\"Predicted Sentiment:\", \"Positive\" if pred[0]==1 else \"Negative\")\n"
   ]
  },
  {
   "cell_type": "code",
   "execution_count": 175,
   "id": "0ffa786a-9ab1-4276-bb5b-087590d5550d",
   "metadata": {},
   "outputs": [
    {
     "data": {
      "image/png": "[encoded data removed]",
      "text/plain": [
       "<Figure size 600x600 with 1 Axes>"
      ]
     },
     "metadata": {},
     "output_type": "display_data"
    }
   ],
   "source": [
    "labels = ['Positive', 'Negative']\n",
    "sizes = df['label'].value_counts().values  # Get counts for each class\n",
    "colors = ['lightblue', 'salmon']\n",
    "explode = (0.1, 0)  # Slightly explode the positive section\n",
    "\n",
    "# Create the pie chart\n",
    "plt.figure(figsize=(6, 6))\n",
    "plt.pie(sizes, labels=labels, autopct='%1.1f%%', colors=colors, explode=explode, startangle=140, shadow=True)\n",
    "\n",
    "# Add title\n",
    "plt.title(\"Distribution of Positive and Negative Tweets\")\n",
    "plt.show()"
   ]
  },
  {
   "cell_type": "markdown",
   "id": "d24f44d5-8d8c-4358-bc9e-33544ada4394",
   "metadata": {},
   "source": [
    "#Conclusion In this sentiment analysis project, we analyzed tweets to classify them as positive or negative using Natural Language Processing (NLP) techniques. Here’s a summary of our findings and model performance:\n",
    "\n",
    "Data Preprocessing & Exploration *Cleaned tweets by removing special characters, stopwords, and converting text to lowercase. *Visualized frequent words using word clouds and bar charts.\n",
    "\n",
    "Sentiment Classification & Model Performance *Used Bag-of-Words (BoW) representation for text features. *Trained a Logistic Regression model to classify tweets. *Achieved an accuracy of X% (replace with actual score) and a good F1-score, indicating balanced performance.\n",
    "\n",
    "3.Visual Insights *Bar Chart showed the distribution of positive and negative tweets. *Pie Chart provided a proportion-based view of sentiment distribution."
   ]
  },
  {
   "cell_type": "code",
   "execution_count": null,
   "id": "88b63fc2-8011-4d4f-a250-90acaea0cfdb",
   "metadata": {},
   "outputs": [],
   "source": []
  }
 ],
 "metadata": {
  "kernelspec": {
   "display_name": "Python 3 (ipykernel)",
   "language": "python",
   "name": "python3"
  },
  "language_info": {
   "codemirror_mode": {
    "name": "ipython",
    "version": 3
   },
   "file_extension": ".py",
   "mimetype": "text/x-python",
   "name": "python",
   "nbconvert_exporter": "python",
   "pygments_lexer": "ipython3",
   "version": "3.10.11"
  }
 },
 "nbformat": 4,
 "nbformat_minor": 5
}
